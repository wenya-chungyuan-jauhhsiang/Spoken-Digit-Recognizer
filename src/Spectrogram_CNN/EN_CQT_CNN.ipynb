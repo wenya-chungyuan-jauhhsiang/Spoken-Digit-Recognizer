{
 "cells": [
  {
   "cell_type": "code",
   "execution_count": 1,
   "metadata": {
    "collapsed": true
   },
   "outputs": [],
   "source": [
    "import librosa\n",
    "import numpy as np\n",
    "import cv2\n",
    "import glob"
   ]
  },
  {
   "cell_type": "code",
   "execution_count": null,
   "metadata": {
    "collapsed": true
   },
   "outputs": [],
   "source": [
    "# load .wav and generate CQT-Spectrum, then save as .npy (直接存矩陣不存圖，就沒有resolution的問題)\n",
    "def store_cqt_npy(fname):\n",
    "    y, sr = librosa.load('Audio_Data/new_data/'+fname)\n",
    "    n_bins=84\n",
    "    CQT = librosa.amplitude_to_db(np.abs(librosa.cqt(y, sr=sr, n_bins=n_bins)), ref=np.max)\n",
    "    CQT = cv2.resize(CQT.astype('float'), (60, n_bins), interpolation = cv2.INTER_CUBIC)\n",
    "    np.save('en_cqt_npy/'+fname, CQT)\n",
    "\n",
    "filename = glob.glob(r'Audio_Data/new_data/*.wav')\n",
    "for i in range(len(filename)):\n",
    "    # mac\n",
    "    # filename[i] = filename[i].split('/')[1]\n",
    "    # window\n",
    "    filename[i] = filename[i].split('\\\\')[1]\n",
    "    store_cqt_npy(filename[i])    "
   ]
  },
  {
   "cell_type": "code",
   "execution_count": null,
   "metadata": {
    "collapsed": true
   },
   "outputs": [],
   "source": [
    "def store_cqt_npy(fname):\n",
    "    y, sr = librosa.load('Audio_Data/spoken_numbers_pcm/'+fname)\n",
    "    n_bins=84\n",
    "    CQT = librosa.amplitude_to_db(np.abs(librosa.cqt(y, sr=sr, n_bins=n_bins)), ref=np.max)\n",
    "    CQT = cv2.resize(CQT.astype('float'), (60, n_bins), interpolation = cv2.INTER_CUBIC)\n",
    "    np.save('en_cqt_npy/'+fname, CQT)\n",
    "filename = glob.glob(r'Audio_Data/spoken_numbers_pcm/*.wav')\n",
    "for i in range(len(filename)):\n",
    "    filename[i] = filename[i].split('\\\\')[1]\n",
    "    store_cqt_npy(filename[i])  "
   ]
  },
  {
   "cell_type": "code",
   "execution_count": null,
   "metadata": {
    "collapsed": true
   },
   "outputs": [],
   "source": [
    "# save CQT-Spectrum image\n",
    "from librosa import display\n",
    "filename_npy = glob.glob(r'en_cqt_npy/*.npy')\n",
    "for i in range(len(filename_npy)):\n",
    "    a = np.load(filename_npy[i])\n",
    "    filename_npy[i] = filename_npy[i].split('\\\\')[1]\n",
    "    librosa.display.specshow(a, y_axis='linear');\n",
    "    plt.axis('off')\n",
    "    plt.savefig('EN_CQT_Spectrum/'+filename_npy[i]+'.png')"
   ]
  },
  {
   "cell_type": "code",
   "execution_count": 2,
   "metadata": {},
   "outputs": [
    {
     "name": "stderr",
     "output_type": "stream",
     "text": [
      "Using TensorFlow backend.\n"
     ]
    }
   ],
   "source": [
    "#%% 讀取npy，總共2880筆\n",
    "import random\n",
    "from keras.utils import np_utils\n",
    "x_list = []\n",
    "y_list = []\n",
    "filename_npy = glob.glob(r'en_cqt_npy/*.npy')\n",
    "# 洗牌一下，到時只要切最後一塊出來當test就好，比較方便不用用抽樣的\n",
    "random.shuffle(filename_npy)\n",
    "for i in range(len(filename_npy)):\n",
    "    x_list.append(np.load(filename_npy[i]))\n",
    "    # mac\n",
    "    # y_list.append(filename_npy[i].split('/')[1][0])\n",
    "    # window\n",
    "    y_list.append(filename_npy[i].split('\\\\')[1][0])"
   ]
  },
  {
   "cell_type": "code",
   "execution_count": 3,
   "metadata": {},
   "outputs": [
    {
     "data": {
      "text/plain": [
       "2880"
      ]
     },
     "execution_count": 3,
     "metadata": {},
     "output_type": "execute_result"
    }
   ],
   "source": [
    "len(x_list)"
   ]
  },
  {
   "cell_type": "code",
   "execution_count": 4,
   "metadata": {},
   "outputs": [
    {
     "name": "stdout",
     "output_type": "stream",
     "text": [
      "4.55258726653 -87.7311910676\n",
      "3.01361772651 -84.9515907109\n"
     ]
    }
   ],
   "source": [
    "# 2500做train、380做test\n",
    "div = 2500\n",
    "x_train = np.asarray(x_list[:div])\n",
    "y_train = np.asarray(y_list[:div])\n",
    "x_test = np.asarray(x_list[div:])\n",
    "y_test = np.asarray(y_list[div:])\n",
    "x_train = x_train.reshape(-1,84,60,1)\n",
    "x_test = x_test.reshape(-1,84,60,1)\n",
    "\n",
    "print(x_train.max(), x_train.min())\n",
    "print(x_test.max(), x_test.min())\n",
    "\n",
    "# normalized和1-hot\n",
    "x_train = (x_train - x_train.min()) / (x_train.max() - x_train.min())\n",
    "x_test = (x_test - x_test.min()) / (x_test.max() - x_test.min())\n",
    "y_train = np_utils.to_categorical(y_train, 10)\n",
    "y_test = np_utils.to_categorical(y_test, 10)"
   ]
  },
  {
   "cell_type": "code",
   "execution_count": 5,
   "metadata": {
    "collapsed": true
   },
   "outputs": [],
   "source": [
    "#%% 測試一下GPU是不是available\n",
    "import tensorflow as tf\n",
    "config = tf.ConfigProto()\n",
    "config.gpu_options.allow_growth = True\n",
    "#%% import package\n",
    "import matplotlib.pyplot as plt\n",
    "import numpy as np\n",
    "from keras.models import Sequential\n",
    "from keras.layers import Dense, Activation, Flatten, Conv2D, MaxPool2D, MaxPooling2D, BatchNormalization, Dropout\n",
    "from keras.optimizers import SGD\n",
    "from keras.datasets import mnist\n",
    "from keras import optimizers\n",
    "from keras.layers.advanced_activations import LeakyReLU"
   ]
  },
  {
   "cell_type": "code",
   "execution_count": 6,
   "metadata": {},
   "outputs": [
    {
     "data": {
      "text/plain": [
       "True"
      ]
     },
     "execution_count": 6,
     "metadata": {},
     "output_type": "execute_result"
    }
   ],
   "source": [
    "tf.test.is_gpu_available()"
   ]
  },
  {
   "cell_type": "code",
   "execution_count": 7,
   "metadata": {
    "collapsed": true
   },
   "outputs": [],
   "source": [
    "#%% model\n",
    "model = Sequential()\n",
    "\n",
    "input_shape = (84, 60, 1)\n",
    "\n",
    "model.add(Conv2D(16, (7, 7), padding='same', input_shape=input_shape))\n",
    "model.add(LeakyReLU(0.1))\n",
    "model.add(MaxPooling2D((3, 3), strides=(2, 2), padding='same'))\n",
    "model.add(BatchNormalization())\n",
    "\n",
    "model.add(Conv2D(32, (5, 5), padding='same'))\n",
    "model.add(LeakyReLU(0.1))\n",
    "model.add(MaxPooling2D((3, 3), strides=(2, 2), padding='same'))\n",
    "model.add(BatchNormalization())\n",
    "\n",
    "model.add(Conv2D(64, (3, 3), padding='same'))\n",
    "model.add(LeakyReLU(0.1))\n",
    "model.add(MaxPooling2D((3, 3), strides=(2, 2), padding='same'))\n",
    "model.add(BatchNormalization())\n",
    "\n",
    "model.add(Conv2D(128, (3, 3), padding='same'))\n",
    "model.add(LeakyReLU(0.1))\n",
    "model.add(MaxPooling2D((3, 3), strides=(2, 2), padding='same'))\n",
    "model.add(BatchNormalization())\n",
    "\n",
    "model.add(Conv2D(128, (3, 3), padding='same'))\n",
    "model.add(LeakyReLU(0.1))\n",
    "model.add(MaxPooling2D((3, 3), strides=(2, 2), padding='same'))\n",
    "model.add(BatchNormalization())\n",
    "\n",
    "model.add(Conv2D(256, (3, 3), padding='same'))\n",
    "model.add(LeakyReLU(0.1))\n",
    "model.add(MaxPooling2D((3, 3), strides=(2, 2), padding='same'))\n",
    "model.add(BatchNormalization())\n",
    "\n",
    "model.add(Conv2D(512, (3, 3), padding='same'))\n",
    "model.add(LeakyReLU(0.1))\n",
    "model.add(MaxPooling2D((3, 3), strides=(2, 2), padding='same'))\n",
    "model.add(BatchNormalization())\n",
    "\n",
    "model.add(Flatten())\n",
    "model.add(Dense(512))\n",
    "model.add(LeakyReLU(0.1))\n",
    "model.add(BatchNormalization())\n",
    "model.add(Dropout(0.5))\n",
    "\n",
    "model.add(Dense(256))\n",
    "model.add(LeakyReLU(0.1))\n",
    "model.add(BatchNormalization())\n",
    "model.add(Dropout(0.4))\n",
    "\n",
    "model.add(Dense(128))\n",
    "model.add(LeakyReLU(0.1))\n",
    "model.add(BatchNormalization())\n",
    "model.add(Dropout(0.3))\n",
    "\n",
    "model.add(Dense(10))\n",
    "model.add(Activation('softmax'))\n",
    "\n",
    "model.compile(optimizer=optimizers.Adam(lr=0.0005),\n",
    "              loss='kullback_leibler_divergence',\n",
    "              metrics=['accuracy'])"
   ]
  },
  {
   "cell_type": "code",
   "execution_count": 8,
   "metadata": {},
   "outputs": [
    {
     "name": "stdout",
     "output_type": "stream",
     "text": [
      "_________________________________________________________________\n",
      "Layer (type)                 Output Shape              Param #   \n",
      "=================================================================\n",
      "conv2d_1 (Conv2D)            (None, 84, 60, 16)        800       \n",
      "_________________________________________________________________\n",
      "leaky_re_lu_1 (LeakyReLU)    (None, 84, 60, 16)        0         \n",
      "_________________________________________________________________\n",
      "max_pooling2d_1 (MaxPooling2 (None, 42, 30, 16)        0         \n",
      "_________________________________________________________________\n",
      "batch_normalization_1 (Batch (None, 42, 30, 16)        64        \n",
      "_________________________________________________________________\n",
      "conv2d_2 (Conv2D)            (None, 42, 30, 32)        12832     \n",
      "_________________________________________________________________\n",
      "leaky_re_lu_2 (LeakyReLU)    (None, 42, 30, 32)        0         \n",
      "_________________________________________________________________\n",
      "max_pooling2d_2 (MaxPooling2 (None, 21, 15, 32)        0         \n",
      "_________________________________________________________________\n",
      "batch_normalization_2 (Batch (None, 21, 15, 32)        128       \n",
      "_________________________________________________________________\n",
      "conv2d_3 (Conv2D)            (None, 21, 15, 64)        18496     \n",
      "_________________________________________________________________\n",
      "leaky_re_lu_3 (LeakyReLU)    (None, 21, 15, 64)        0         \n",
      "_________________________________________________________________\n",
      "max_pooling2d_3 (MaxPooling2 (None, 11, 8, 64)         0         \n",
      "_________________________________________________________________\n",
      "batch_normalization_3 (Batch (None, 11, 8, 64)         256       \n",
      "_________________________________________________________________\n",
      "conv2d_4 (Conv2D)            (None, 11, 8, 128)        73856     \n",
      "_________________________________________________________________\n",
      "leaky_re_lu_4 (LeakyReLU)    (None, 11, 8, 128)        0         \n",
      "_________________________________________________________________\n",
      "max_pooling2d_4 (MaxPooling2 (None, 6, 4, 128)         0         \n",
      "_________________________________________________________________\n",
      "batch_normalization_4 (Batch (None, 6, 4, 128)         512       \n",
      "_________________________________________________________________\n",
      "conv2d_5 (Conv2D)            (None, 6, 4, 128)         147584    \n",
      "_________________________________________________________________\n",
      "leaky_re_lu_5 (LeakyReLU)    (None, 6, 4, 128)         0         \n",
      "_________________________________________________________________\n",
      "max_pooling2d_5 (MaxPooling2 (None, 3, 2, 128)         0         \n",
      "_________________________________________________________________\n",
      "batch_normalization_5 (Batch (None, 3, 2, 128)         512       \n",
      "_________________________________________________________________\n",
      "conv2d_6 (Conv2D)            (None, 3, 2, 256)         295168    \n",
      "_________________________________________________________________\n",
      "leaky_re_lu_6 (LeakyReLU)    (None, 3, 2, 256)         0         \n",
      "_________________________________________________________________\n",
      "max_pooling2d_6 (MaxPooling2 (None, 2, 1, 256)         0         \n",
      "_________________________________________________________________\n",
      "batch_normalization_6 (Batch (None, 2, 1, 256)         1024      \n",
      "_________________________________________________________________\n",
      "conv2d_7 (Conv2D)            (None, 2, 1, 512)         1180160   \n",
      "_________________________________________________________________\n",
      "leaky_re_lu_7 (LeakyReLU)    (None, 2, 1, 512)         0         \n",
      "_________________________________________________________________\n",
      "max_pooling2d_7 (MaxPooling2 (None, 1, 1, 512)         0         \n",
      "_________________________________________________________________\n",
      "batch_normalization_7 (Batch (None, 1, 1, 512)         2048      \n",
      "_________________________________________________________________\n",
      "flatten_1 (Flatten)          (None, 512)               0         \n",
      "_________________________________________________________________\n",
      "dense_1 (Dense)              (None, 512)               262656    \n",
      "_________________________________________________________________\n",
      "leaky_re_lu_8 (LeakyReLU)    (None, 512)               0         \n",
      "_________________________________________________________________\n",
      "batch_normalization_8 (Batch (None, 512)               2048      \n",
      "_________________________________________________________________\n",
      "dropout_1 (Dropout)          (None, 512)               0         \n",
      "_________________________________________________________________\n",
      "dense_2 (Dense)              (None, 256)               131328    \n",
      "_________________________________________________________________\n",
      "leaky_re_lu_9 (LeakyReLU)    (None, 256)               0         \n",
      "_________________________________________________________________\n",
      "batch_normalization_9 (Batch (None, 256)               1024      \n",
      "_________________________________________________________________\n",
      "dropout_2 (Dropout)          (None, 256)               0         \n",
      "_________________________________________________________________\n",
      "dense_3 (Dense)              (None, 128)               32896     \n",
      "_________________________________________________________________\n",
      "leaky_re_lu_10 (LeakyReLU)   (None, 128)               0         \n",
      "_________________________________________________________________\n",
      "batch_normalization_10 (Batc (None, 128)               512       \n",
      "_________________________________________________________________\n",
      "dropout_3 (Dropout)          (None, 128)               0         \n",
      "_________________________________________________________________\n",
      "dense_4 (Dense)              (None, 10)                1290      \n",
      "_________________________________________________________________\n",
      "activation_1 (Activation)    (None, 10)                0         \n",
      "=================================================================\n",
      "Total params: 2,165,194\n",
      "Trainable params: 2,161,130\n",
      "Non-trainable params: 4,064\n",
      "_________________________________________________________________\n"
     ]
    }
   ],
   "source": [
    "model.summary()"
   ]
  },
  {
   "cell_type": "code",
   "execution_count": 9,
   "metadata": {
    "collapsed": true
   },
   "outputs": [],
   "source": [
    "from keras.callbacks import EarlyStopping\n",
    "early_stopping = EarlyStopping('val_acc', patience=5, verbose=1)"
   ]
  },
  {
   "cell_type": "code",
   "execution_count": 10,
   "metadata": {
    "scrolled": false
   },
   "outputs": [
    {
     "name": "stdout",
     "output_type": "stream",
     "text": [
      "Train on 2500 samples, validate on 380 samples\n",
      "Epoch 1/100\n",
      "2500/2500 [==============================] - 5s 2ms/step - loss: 2.8675 - acc: 0.1636 - val_loss: 2.7744 - val_acc: 0.1658\n",
      "Epoch 2/100\n",
      "2500/2500 [==============================] - 1s 519us/step - loss: 2.2033 - acc: 0.2900 - val_loss: 2.6210 - val_acc: 0.2500\n",
      "Epoch 3/100\n",
      "2500/2500 [==============================] - 1s 525us/step - loss: 1.7022 - acc: 0.4284 - val_loss: 2.8939 - val_acc: 0.2816\n",
      "Epoch 4/100\n",
      "2500/2500 [==============================] - 1s 522us/step - loss: 1.2457 - acc: 0.5580 - val_loss: 2.3688 - val_acc: 0.2895\n",
      "Epoch 5/100\n",
      "2500/2500 [==============================] - 1s 522us/step - loss: 0.8883 - acc: 0.6788 - val_loss: 2.1622 - val_acc: 0.3105\n",
      "Epoch 6/100\n",
      "2500/2500 [==============================] - 1s 520us/step - loss: 0.5963 - acc: 0.7952 - val_loss: 1.3127 - val_acc: 0.5237\n",
      "Epoch 7/100\n",
      "2500/2500 [==============================] - 1s 525us/step - loss: 0.4113 - acc: 0.8576 - val_loss: 1.2285 - val_acc: 0.6421\n",
      "Epoch 8/100\n",
      "2500/2500 [==============================] - 1s 524us/step - loss: 0.2843 - acc: 0.9144 - val_loss: 0.9295 - val_acc: 0.7105\n",
      "Epoch 9/100\n",
      "2500/2500 [==============================] - 1s 521us/step - loss: 0.1902 - acc: 0.9472 - val_loss: 0.6536 - val_acc: 0.7974\n",
      "Epoch 10/100\n",
      "2500/2500 [==============================] - 1s 522us/step - loss: 0.1465 - acc: 0.9652 - val_loss: 0.4593 - val_acc: 0.8500\n",
      "Epoch 11/100\n",
      "2500/2500 [==============================] - 1s 522us/step - loss: 0.1202 - acc: 0.9684 - val_loss: 0.3970 - val_acc: 0.8921\n",
      "Epoch 12/100\n",
      "2500/2500 [==============================] - 1s 523us/step - loss: 0.0954 - acc: 0.9792 - val_loss: 0.5213 - val_acc: 0.8500\n",
      "Epoch 13/100\n",
      "2500/2500 [==============================] - 1s 522us/step - loss: 0.0770 - acc: 0.9836 - val_loss: 0.4583 - val_acc: 0.8684\n",
      "Epoch 14/100\n",
      "2500/2500 [==============================] - 1s 526us/step - loss: 0.0563 - acc: 0.9904 - val_loss: 0.3748 - val_acc: 0.8789\n",
      "Epoch 15/100\n",
      "2500/2500 [==============================] - 1s 526us/step - loss: 0.0429 - acc: 0.9936 - val_loss: 0.4639 - val_acc: 0.8737\n",
      "Epoch 16/100\n",
      "2500/2500 [==============================] - 1s 522us/step - loss: 0.0323 - acc: 0.9968 - val_loss: 0.2348 - val_acc: 0.9158\n",
      "Epoch 17/100\n",
      "2500/2500 [==============================] - 1s 522us/step - loss: 0.0267 - acc: 0.9972 - val_loss: 0.1581 - val_acc: 0.9421\n",
      "Epoch 18/100\n",
      "2500/2500 [==============================] - 1s 523us/step - loss: 0.0209 - acc: 0.9988 - val_loss: 0.0857 - val_acc: 0.9816\n",
      "Epoch 19/100\n",
      "2500/2500 [==============================] - 1s 524us/step - loss: 0.0189 - acc: 0.9992 - val_loss: 0.1387 - val_acc: 0.9579\n",
      "Epoch 20/100\n",
      "2500/2500 [==============================] - 1s 522us/step - loss: 0.0151 - acc: 0.9988 - val_loss: 0.0887 - val_acc: 0.9789\n",
      "Epoch 21/100\n",
      "2500/2500 [==============================] - 1s 520us/step - loss: 0.0119 - acc: 0.9992 - val_loss: 0.0781 - val_acc: 0.9842\n",
      "Epoch 22/100\n",
      "2500/2500 [==============================] - 1s 522us/step - loss: 0.0131 - acc: 0.9996 - val_loss: 0.0394 - val_acc: 0.9895\n",
      "Epoch 23/100\n",
      "2500/2500 [==============================] - 1s 520us/step - loss: 0.0095 - acc: 1.0000 - val_loss: 0.0333 - val_acc: 0.9947\n",
      "Epoch 24/100\n",
      "2500/2500 [==============================] - 1s 522us/step - loss: 0.0102 - acc: 1.0000 - val_loss: 0.0651 - val_acc: 0.9789\n",
      "Epoch 25/100\n",
      "2500/2500 [==============================] - 1s 521us/step - loss: 0.0103 - acc: 1.0000 - val_loss: 0.0617 - val_acc: 0.9763\n",
      "Epoch 26/100\n",
      "2500/2500 [==============================] - 1s 522us/step - loss: 0.0097 - acc: 0.9988 - val_loss: 0.0604 - val_acc: 0.9842\n",
      "Epoch 27/100\n",
      "2500/2500 [==============================] - 1s 523us/step - loss: 0.0081 - acc: 1.0000 - val_loss: 0.0552 - val_acc: 0.9842\n",
      "Epoch 28/100\n",
      "2500/2500 [==============================] - 1s 522us/step - loss: 0.0081 - acc: 1.0000 - val_loss: 0.0799 - val_acc: 0.9763\n",
      "Epoch 00028: early stopping\n"
     ]
    }
   ],
   "source": [
    "#%% fit model\n",
    "model_history = model.fit(x_train, y_train, batch_size=128, epochs=100,\n",
    "                          validation_data = (x_test, y_test),\n",
    "                          shuffle = True,\n",
    "                          callbacks=[early_stopping]\n",
    "                         )"
   ]
  },
  {
   "cell_type": "code",
   "execution_count": 11,
   "metadata": {},
   "outputs": [
    {
     "data": {
      "image/png": "[encoded data removed]",
      "text/plain": [
       "<matplotlib.figure.Figure at 0x54de3c88>"
      ]
     },
     "metadata": {},
     "output_type": "display_data"
    }
   ],
   "source": [
    "# 作圖\n",
    "fig = plt.figure(figsize=(16,5))\n",
    "ax1 = fig.add_subplot(1,2,1)\n",
    "plt.plot(model_history.history[\"acc\"])\n",
    "\n",
    "plt.title(\"model training accuracy\")\n",
    "plt.ylabel(\"accuracy\")\n",
    "plt.xlabel(\"epoch\")\n",
    "plt.legend([\"model_final\"], loc = \"best\")\n",
    "\n",
    "ax2 = fig.add_subplot(1,2,2)\n",
    "plt.plot(model_history.history[\"val_acc\"])\n",
    "\n",
    "plt.title(\"model validation accuracy\")\n",
    "plt.ylabel(\"accuracy\")\n",
    "plt.xlabel(\"epoch\")\n",
    "plt.legend([\"model_final\"], loc = \"best\")\n",
    "\n",
    "plt.show()"
   ]
  },
  {
   "cell_type": "code",
   "execution_count": 12,
   "metadata": {},
   "outputs": [
    {
     "name": "stdout",
     "output_type": "stream",
     "text": [
      "380/380 [==============================] - 0s 1ms/step\n",
      "Loss: 0.079949\n",
      "testing accuracy: 97.631580\n"
     ]
    }
   ],
   "source": [
    "# score\n",
    "score = model.evaluate(x_test, y_test, batch_size=10000)\n",
    "print(\"Loss: %f\" %score[0])\n",
    "print(\"testing accuracy: %f\" %(score[1]*100))"
   ]
  },
  {
   "cell_type": "code",
   "execution_count": 13,
   "metadata": {
    "collapsed": true
   },
   "outputs": [],
   "source": [
    "#%% 儲存model\n",
    "model.save('EN_CQT_CNN.h5')"
   ]
  }
 ],
 "metadata": {
  "kernelspec": {
   "display_name": "Python 3",
   "language": "python",
   "name": "python3"
  },
  "language_info": {
   "codemirror_mode": {
    "name": "ipython",
    "version": 3
   },
   "file_extension": ".py",
   "mimetype": "text/x-python",
   "name": "python",
   "nbconvert_exporter": "python",
   "pygments_lexer": "ipython3",
   "version": "3.6.3"
  }
 },
 "nbformat": 4,
 "nbformat_minor": 2
}
