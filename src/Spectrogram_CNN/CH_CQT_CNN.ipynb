{
 "cells": [
  {
   "cell_type": "code",
   "execution_count": 16,
   "metadata": {
    "collapsed": true
   },
   "outputs": [],
   "source": [
    "import librosa\n",
    "import numpy as np\n",
    "import cv2\n",
    "import glob"
   ]
  },
  {
   "cell_type": "code",
   "execution_count": 17,
   "metadata": {},
   "outputs": [],
   "source": [
    "# load .wav and generate CQT-Spectrum, then save as .npy (直接存矩陣不存圖，就沒有resolution的問題)\n",
    "def store_cqt_npy(fname):\n",
    "    y, sr = librosa.load('Audio_Data/ch/'+fname)\n",
    "    n_bins=84\n",
    "    CQT = librosa.amplitude_to_db(np.abs(librosa.cqt(y, sr=sr, n_bins=n_bins)), ref=np.max)\n",
    "    CQT = cv2.resize(CQT.astype('float'), (60, n_bins), interpolation = cv2.INTER_CUBIC)\n",
    "    np.save('ch_cqt_npy/'+fname, CQT)\n",
    "\n",
    "filename = glob.glob(r'Audio_Data/ch/*.wav')\n",
    "for i in range(len(filename)):\n",
    "    # mac\n",
    "    # filename[i] = filename[i].split('/')[1]\n",
    "    # window\n",
    "    filename[i] = filename[i].split('\\\\')[1]\n",
    "    store_cqt_npy(filename[i])    "
   ]
  },
  {
   "cell_type": "code",
   "execution_count": 18,
   "metadata": {},
   "outputs": [],
   "source": [
    "# 讀取npy，總共1500筆\n",
    "import random\n",
    "from keras.utils import np_utils\n",
    "x_list = []\n",
    "y_list = []\n",
    "filename_npy = glob.glob(r'ch_cqt_npy/*.npy')\n",
    "# 洗牌一下，到時只要切最後一塊出來當test就好，比較方便不用用抽樣的\n",
    "random.shuffle(filename_npy)\n",
    "for i in range(len(filename_npy)):\n",
    "    x_list.append(np.load(filename_npy[i]))\n",
    "    # mac\n",
    "    # y_list.append(filename_npy[i].split('/')[1][0])\n",
    "    # window\n",
    "    y_list.append(filename_npy[i].split('\\\\')[1][0])"
   ]
  },
  {
   "cell_type": "code",
   "execution_count": 19,
   "metadata": {},
   "outputs": [
    {
     "data": {
      "text/plain": [
       "1500"
      ]
     },
     "execution_count": 19,
     "metadata": {},
     "output_type": "execute_result"
    }
   ],
   "source": [
    "len(x_list)"
   ]
  },
  {
   "cell_type": "code",
   "execution_count": 20,
   "metadata": {},
   "outputs": [
    {
     "name": "stdout",
     "output_type": "stream",
     "text": [
      "6.6417362551 -86.8690415758\n",
      "3.1002722515 -86.0582852628\n"
     ]
    }
   ],
   "source": [
    "# 1350做train、150做test\n",
    "div = 1350\n",
    "x_train = np.asarray(x_list[:div])\n",
    "y_train = np.asarray(y_list[:div])\n",
    "x_test = np.asarray(x_list[div:])\n",
    "y_test = np.asarray(y_list[div:])\n",
    "x_train = x_train.reshape(-1,84,60,1)\n",
    "x_test = x_test.reshape(-1,84,60,1)\n",
    "\n",
    "print(x_train.max(), x_train.min())\n",
    "print(x_test.max(), x_test.min())\n",
    "\n",
    "# normalized和1-hot\n",
    "x_train = (x_train - x_train.min()) / (x_train.max() - x_train.min())\n",
    "x_test = (x_test - x_test.min()) / (x_test.max() - x_test.min())\n",
    "y_train = np_utils.to_categorical(y_train, 10)\n",
    "y_test = np_utils.to_categorical(y_test, 10)"
   ]
  },
  {
   "cell_type": "code",
   "execution_count": 21,
   "metadata": {
    "collapsed": true
   },
   "outputs": [],
   "source": [
    "#%% 測試一下GPU是不是available\n",
    "import tensorflow as tf\n",
    "config = tf.ConfigProto()\n",
    "config.gpu_options.allow_growth = True\n",
    "#%% import package\n",
    "import matplotlib.pyplot as plt\n",
    "import numpy as np\n",
    "from keras.models import Sequential\n",
    "from keras.layers import Dense, Activation, Flatten, Conv2D, MaxPool2D, MaxPooling2D, BatchNormalization, Dropout\n",
    "from keras.optimizers import SGD\n",
    "from keras.datasets import mnist\n",
    "from keras import optimizers\n",
    "from keras.layers.advanced_activations import LeakyReLU"
   ]
  },
  {
   "cell_type": "code",
   "execution_count": 22,
   "metadata": {},
   "outputs": [
    {
     "data": {
      "text/plain": [
       "True"
      ]
     },
     "execution_count": 22,
     "metadata": {},
     "output_type": "execute_result"
    }
   ],
   "source": [
    "tf.test.is_gpu_available()"
   ]
  },
  {
   "cell_type": "code",
   "execution_count": 23,
   "metadata": {
    "collapsed": true
   },
   "outputs": [],
   "source": [
    "#%% model\n",
    "model = Sequential()\n",
    "\n",
    "input_shape = (84, 60, 1)\n",
    "\n",
    "model.add(Conv2D(16, (7, 7), padding='same', input_shape=input_shape))\n",
    "model.add(LeakyReLU(0.1))\n",
    "model.add(MaxPooling2D((3, 3), strides=(2, 2), padding='same'))\n",
    "model.add(BatchNormalization())\n",
    "\n",
    "model.add(Conv2D(32, (5, 5), padding='same'))\n",
    "model.add(LeakyReLU(0.1))\n",
    "model.add(MaxPooling2D((3, 3), strides=(2, 2), padding='same'))\n",
    "model.add(BatchNormalization())\n",
    "\n",
    "model.add(Conv2D(64, (3, 3), padding='same'))\n",
    "model.add(LeakyReLU(0.1))\n",
    "model.add(MaxPooling2D((3, 3), strides=(2, 2), padding='same'))\n",
    "model.add(BatchNormalization())\n",
    "\n",
    "model.add(Conv2D(128, (3, 3), padding='same'))\n",
    "model.add(LeakyReLU(0.1))\n",
    "model.add(MaxPooling2D((3, 3), strides=(2, 2), padding='same'))\n",
    "model.add(BatchNormalization())\n",
    "\n",
    "model.add(Conv2D(128, (3, 3), padding='same'))\n",
    "model.add(LeakyReLU(0.1))\n",
    "model.add(MaxPooling2D((3, 3), strides=(2, 2), padding='same'))\n",
    "model.add(BatchNormalization())\n",
    "\n",
    "model.add(Conv2D(256, (3, 3), padding='same'))\n",
    "model.add(LeakyReLU(0.1))\n",
    "model.add(MaxPooling2D((3, 3), strides=(2, 2), padding='same'))\n",
    "model.add(BatchNormalization())\n",
    "\n",
    "model.add(Conv2D(512, (3, 3), padding='same'))\n",
    "model.add(LeakyReLU(0.1))\n",
    "model.add(MaxPooling2D((3, 3), strides=(2, 2), padding='same'))\n",
    "model.add(BatchNormalization())\n",
    "\n",
    "model.add(Flatten())\n",
    "model.add(Dense(512))\n",
    "model.add(LeakyReLU(0.1))\n",
    "model.add(BatchNormalization())\n",
    "model.add(Dropout(0.5))\n",
    "\n",
    "model.add(Dense(256))\n",
    "model.add(LeakyReLU(0.1))\n",
    "model.add(BatchNormalization())\n",
    "model.add(Dropout(0.4))\n",
    "\n",
    "model.add(Dense(128))\n",
    "model.add(LeakyReLU(0.1))\n",
    "model.add(BatchNormalization())\n",
    "model.add(Dropout(0.3))\n",
    "\n",
    "model.add(Dense(10))\n",
    "model.add(Activation('softmax'))\n",
    "\n",
    "model.compile(optimizer=optimizers.Adam(lr=0.0005),\n",
    "              loss='kullback_leibler_divergence',\n",
    "              metrics=['accuracy'])"
   ]
  },
  {
   "cell_type": "code",
   "execution_count": 24,
   "metadata": {},
   "outputs": [
    {
     "name": "stdout",
     "output_type": "stream",
     "text": [
      "_________________________________________________________________\n",
      "Layer (type)                 Output Shape              Param #   \n",
      "=================================================================\n",
      "conv2d_8 (Conv2D)            (None, 84, 60, 16)        800       \n",
      "_________________________________________________________________\n",
      "leaky_re_lu_11 (LeakyReLU)   (None, 84, 60, 16)        0         \n",
      "_________________________________________________________________\n",
      "max_pooling2d_8 (MaxPooling2 (None, 42, 30, 16)        0         \n",
      "_________________________________________________________________\n",
      "batch_normalization_11 (Batc (None, 42, 30, 16)        64        \n",
      "_________________________________________________________________\n",
      "conv2d_9 (Conv2D)            (None, 42, 30, 32)        12832     \n",
      "_________________________________________________________________\n",
      "leaky_re_lu_12 (LeakyReLU)   (None, 42, 30, 32)        0         \n",
      "_________________________________________________________________\n",
      "max_pooling2d_9 (MaxPooling2 (None, 21, 15, 32)        0         \n",
      "_________________________________________________________________\n",
      "batch_normalization_12 (Batc (None, 21, 15, 32)        128       \n",
      "_________________________________________________________________\n",
      "conv2d_10 (Conv2D)           (None, 21, 15, 64)        18496     \n",
      "_________________________________________________________________\n",
      "leaky_re_lu_13 (LeakyReLU)   (None, 21, 15, 64)        0         \n",
      "_________________________________________________________________\n",
      "max_pooling2d_10 (MaxPooling (None, 11, 8, 64)         0         \n",
      "_________________________________________________________________\n",
      "batch_normalization_13 (Batc (None, 11, 8, 64)         256       \n",
      "_________________________________________________________________\n",
      "conv2d_11 (Conv2D)           (None, 11, 8, 128)        73856     \n",
      "_________________________________________________________________\n",
      "leaky_re_lu_14 (LeakyReLU)   (None, 11, 8, 128)        0         \n",
      "_________________________________________________________________\n",
      "max_pooling2d_11 (MaxPooling (None, 6, 4, 128)         0         \n",
      "_________________________________________________________________\n",
      "batch_normalization_14 (Batc (None, 6, 4, 128)         512       \n",
      "_________________________________________________________________\n",
      "conv2d_12 (Conv2D)           (None, 6, 4, 128)         147584    \n",
      "_________________________________________________________________\n",
      "leaky_re_lu_15 (LeakyReLU)   (None, 6, 4, 128)         0         \n",
      "_________________________________________________________________\n",
      "max_pooling2d_12 (MaxPooling (None, 3, 2, 128)         0         \n",
      "_________________________________________________________________\n",
      "batch_normalization_15 (Batc (None, 3, 2, 128)         512       \n",
      "_________________________________________________________________\n",
      "conv2d_13 (Conv2D)           (None, 3, 2, 256)         295168    \n",
      "_________________________________________________________________\n",
      "leaky_re_lu_16 (LeakyReLU)   (None, 3, 2, 256)         0         \n",
      "_________________________________________________________________\n",
      "max_pooling2d_13 (MaxPooling (None, 2, 1, 256)         0         \n",
      "_________________________________________________________________\n",
      "batch_normalization_16 (Batc (None, 2, 1, 256)         1024      \n",
      "_________________________________________________________________\n",
      "conv2d_14 (Conv2D)           (None, 2, 1, 512)         1180160   \n",
      "_________________________________________________________________\n",
      "leaky_re_lu_17 (LeakyReLU)   (None, 2, 1, 512)         0         \n",
      "_________________________________________________________________\n",
      "max_pooling2d_14 (MaxPooling (None, 1, 1, 512)         0         \n",
      "_________________________________________________________________\n",
      "batch_normalization_17 (Batc (None, 1, 1, 512)         2048      \n",
      "_________________________________________________________________\n",
      "flatten_2 (Flatten)          (None, 512)               0         \n",
      "_________________________________________________________________\n",
      "dense_5 (Dense)              (None, 512)               262656    \n",
      "_________________________________________________________________\n",
      "leaky_re_lu_18 (LeakyReLU)   (None, 512)               0         \n",
      "_________________________________________________________________\n",
      "batch_normalization_18 (Batc (None, 512)               2048      \n",
      "_________________________________________________________________\n",
      "dropout_4 (Dropout)          (None, 512)               0         \n",
      "_________________________________________________________________\n",
      "dense_6 (Dense)              (None, 256)               131328    \n",
      "_________________________________________________________________\n",
      "leaky_re_lu_19 (LeakyReLU)   (None, 256)               0         \n",
      "_________________________________________________________________\n",
      "batch_normalization_19 (Batc (None, 256)               1024      \n",
      "_________________________________________________________________\n",
      "dropout_5 (Dropout)          (None, 256)               0         \n",
      "_________________________________________________________________\n",
      "dense_7 (Dense)              (None, 128)               32896     \n",
      "_________________________________________________________________\n",
      "leaky_re_lu_20 (LeakyReLU)   (None, 128)               0         \n",
      "_________________________________________________________________\n",
      "batch_normalization_20 (Batc (None, 128)               512       \n",
      "_________________________________________________________________\n",
      "dropout_6 (Dropout)          (None, 128)               0         \n",
      "_________________________________________________________________\n",
      "dense_8 (Dense)              (None, 10)                1290      \n",
      "_________________________________________________________________\n",
      "activation_2 (Activation)    (None, 10)                0         \n",
      "=================================================================\n",
      "Total params: 2,165,194\n",
      "Trainable params: 2,161,130\n",
      "Non-trainable params: 4,064\n",
      "_________________________________________________________________\n"
     ]
    }
   ],
   "source": [
    "model.summary()"
   ]
  },
  {
   "cell_type": "code",
   "execution_count": 25,
   "metadata": {
    "collapsed": true
   },
   "outputs": [],
   "source": [
    "from keras.callbacks import EarlyStopping\n",
    "early_stopping = EarlyStopping('val_acc', patience=15, verbose=1)"
   ]
  },
  {
   "cell_type": "code",
   "execution_count": 26,
   "metadata": {
    "scrolled": true
   },
   "outputs": [
    {
     "name": "stdout",
     "output_type": "stream",
     "text": [
      "Train on 1350 samples, validate on 150 samples\n",
      "Epoch 1/100\n",
      "1350/1350 [==============================] - 3s 2ms/step - loss: 1.9392 - acc: 0.4007 - val_loss: 2.1618 - val_acc: 0.4400\n",
      "Epoch 2/100\n",
      "1350/1350 [==============================] - 1s 524us/step - loss: 0.6059 - acc: 0.8119 - val_loss: 2.4101 - val_acc: 0.4133\n",
      "Epoch 3/100\n",
      "1350/1350 [==============================] - 1s 524us/step - loss: 0.2666 - acc: 0.9244 - val_loss: 1.4841 - val_acc: 0.6333\n",
      "Epoch 4/100\n",
      "1350/1350 [==============================] - 1s 521us/step - loss: 0.1390 - acc: 0.9674 - val_loss: 0.5455 - val_acc: 0.8000\n",
      "Epoch 5/100\n",
      "1350/1350 [==============================] - 1s 519us/step - loss: 0.0852 - acc: 0.9830 - val_loss: 0.2117 - val_acc: 0.9267\n",
      "Epoch 6/100\n",
      "1350/1350 [==============================] - 1s 521us/step - loss: 0.0500 - acc: 0.9948 - val_loss: 0.1444 - val_acc: 0.9400\n",
      "Epoch 7/100\n",
      "1350/1350 [==============================] - 1s 524us/step - loss: 0.0341 - acc: 0.9985 - val_loss: 0.1276 - val_acc: 0.9467\n",
      "Epoch 8/100\n",
      "1350/1350 [==============================] - 1s 527us/step - loss: 0.0303 - acc: 0.9963 - val_loss: 0.0548 - val_acc: 0.9733\n",
      "Epoch 9/100\n",
      "1350/1350 [==============================] - 1s 520us/step - loss: 0.0251 - acc: 0.9963 - val_loss: 0.0747 - val_acc: 0.9800\n",
      "Epoch 10/100\n",
      "1350/1350 [==============================] - 1s 521us/step - loss: 0.0157 - acc: 1.0000 - val_loss: 0.0760 - val_acc: 0.9800\n",
      "Epoch 11/100\n",
      "1350/1350 [==============================] - 1s 526us/step - loss: 0.0170 - acc: 0.9985 - val_loss: 0.0338 - val_acc: 0.9800\n",
      "Epoch 12/100\n",
      "1350/1350 [==============================] - 1s 522us/step - loss: 0.0153 - acc: 0.9993 - val_loss: 0.0368 - val_acc: 0.9867\n",
      "Epoch 13/100\n",
      "1350/1350 [==============================] - 1s 521us/step - loss: 0.0126 - acc: 1.0000 - val_loss: 0.0333 - val_acc: 0.9867\n",
      "Epoch 14/100\n",
      "1350/1350 [==============================] - 1s 531us/step - loss: 0.0097 - acc: 1.0000 - val_loss: 0.0277 - val_acc: 0.9867\n",
      "Epoch 15/100\n",
      "1350/1350 [==============================] - 1s 527us/step - loss: 0.0094 - acc: 1.0000 - val_loss: 0.0211 - val_acc: 0.9867\n",
      "Epoch 16/100\n",
      "1350/1350 [==============================] - 1s 530us/step - loss: 0.0080 - acc: 1.0000 - val_loss: 0.0162 - val_acc: 0.9933\n",
      "Epoch 17/100\n",
      "1350/1350 [==============================] - 1s 528us/step - loss: 0.0087 - acc: 1.0000 - val_loss: 0.0177 - val_acc: 0.9867\n",
      "Epoch 18/100\n",
      "1350/1350 [==============================] - 1s 526us/step - loss: 0.0081 - acc: 1.0000 - val_loss: 0.0149 - val_acc: 0.9933\n",
      "Epoch 19/100\n",
      "1350/1350 [==============================] - 1s 528us/step - loss: 0.0061 - acc: 1.0000 - val_loss: 0.0110 - val_acc: 1.0000\n",
      "Epoch 20/100\n",
      "1350/1350 [==============================] - 1s 521us/step - loss: 0.0067 - acc: 1.0000 - val_loss: 0.0107 - val_acc: 1.0000\n",
      "Epoch 21/100\n",
      "1350/1350 [==============================] - 1s 518us/step - loss: 0.0060 - acc: 0.9993 - val_loss: 0.0176 - val_acc: 0.9933\n",
      "Epoch 22/100\n",
      "1350/1350 [==============================] - 1s 522us/step - loss: 0.0056 - acc: 1.0000 - val_loss: 0.0148 - val_acc: 0.9933\n",
      "Epoch 23/100\n",
      "1350/1350 [==============================] - 1s 529us/step - loss: 0.0049 - acc: 1.0000 - val_loss: 0.0134 - val_acc: 0.9933\n",
      "Epoch 24/100\n",
      "1350/1350 [==============================] - 1s 522us/step - loss: 0.0042 - acc: 1.0000 - val_loss: 0.0095 - val_acc: 1.0000\n",
      "Epoch 25/100\n",
      "1350/1350 [==============================] - 1s 521us/step - loss: 0.0052 - acc: 1.0000 - val_loss: 0.0097 - val_acc: 1.0000\n",
      "Epoch 26/100\n",
      "1350/1350 [==============================] - 1s 524us/step - loss: 0.0042 - acc: 1.0000 - val_loss: 0.0111 - val_acc: 0.9933\n",
      "Epoch 27/100\n",
      "1350/1350 [==============================] - 1s 521us/step - loss: 0.0043 - acc: 1.0000 - val_loss: 0.0092 - val_acc: 1.0000\n",
      "Epoch 28/100\n",
      "1350/1350 [==============================] - 1s 529us/step - loss: 0.0032 - acc: 1.0000 - val_loss: 0.0087 - val_acc: 0.9933\n",
      "Epoch 29/100\n",
      "1350/1350 [==============================] - 1s 521us/step - loss: 0.0038 - acc: 1.0000 - val_loss: 0.0094 - val_acc: 0.9933\n",
      "Epoch 30/100\n",
      "1350/1350 [==============================] - 1s 521us/step - loss: 0.0036 - acc: 1.0000 - val_loss: 0.0092 - val_acc: 0.9933\n",
      "Epoch 31/100\n",
      "1350/1350 [==============================] - 1s 522us/step - loss: 0.0036 - acc: 1.0000 - val_loss: 0.0094 - val_acc: 0.9933\n",
      "Epoch 32/100\n",
      "1350/1350 [==============================] - 1s 524us/step - loss: 0.0037 - acc: 1.0000 - val_loss: 0.0118 - val_acc: 0.9933\n",
      "Epoch 33/100\n",
      "1350/1350 [==============================] - 1s 527us/step - loss: 0.0034 - acc: 1.0000 - val_loss: 0.0121 - val_acc: 0.9933\n",
      "Epoch 34/100\n",
      "1350/1350 [==============================] - 1s 525us/step - loss: 0.0026 - acc: 1.0000 - val_loss: 0.0116 - val_acc: 0.9933\n",
      "Epoch 00034: early stopping\n"
     ]
    }
   ],
   "source": [
    "#%% fit model\n",
    "model_history = model.fit(x_train, y_train, batch_size=128, epochs=100,\n",
    "                          validation_data = (x_test, y_test),\n",
    "                          shuffle = True,\n",
    "                          callbacks=[early_stopping]\n",
    "                         )"
   ]
  },
  {
   "cell_type": "code",
   "execution_count": 27,
   "metadata": {},
   "outputs": [
    {
     "data": {
      "image/png": "[encoded data removed]",
      "text/plain": [
       "<matplotlib.figure.Figure at 0x650dfdd8>"
      ]
     },
     "metadata": {},
     "output_type": "display_data"
    }
   ],
   "source": [
    "# 作圖\n",
    "fig = plt.figure(figsize=(16,5))\n",
    "ax1 = fig.add_subplot(1,2,1)\n",
    "plt.plot(model_history.history[\"acc\"])\n",
    "\n",
    "plt.title(\"model training accuracy\")\n",
    "plt.ylabel(\"accuracy\")\n",
    "plt.xlabel(\"epoch\")\n",
    "plt.legend([\"model_final\"], loc = \"best\")\n",
    "\n",
    "ax2 = fig.add_subplot(1,2,2)\n",
    "plt.plot(model_history.history[\"val_acc\"])\n",
    "\n",
    "plt.title(\"model validation accuracy\")\n",
    "plt.ylabel(\"accuracy\")\n",
    "plt.xlabel(\"epoch\")\n",
    "plt.legend([\"model_final\"], loc = \"best\")\n",
    "\n",
    "plt.show()"
   ]
  },
  {
   "cell_type": "code",
   "execution_count": 28,
   "metadata": {},
   "outputs": [
    {
     "name": "stdout",
     "output_type": "stream",
     "text": [
      "150/150 [==============================] - 0s 1ms/step\n",
      "Loss: 0.011612\n",
      "testing accuracy: 99.333334\n"
     ]
    }
   ],
   "source": [
    "# score\n",
    "score = model.evaluate(x_test, y_test, batch_size=10000)\n",
    "print(\"Loss: %f\" %score[0])\n",
    "print(\"testing accuracy: %f\" %(score[1]*100))"
   ]
  },
  {
   "cell_type": "code",
   "execution_count": 29,
   "metadata": {
    "collapsed": true
   },
   "outputs": [],
   "source": [
    "#%% 儲存model\n",
    "model.save('CH_CQT_CNN.h5')"
   ]
  }
 ],
 "metadata": {
  "kernelspec": {
   "display_name": "Python 3",
   "language": "python",
   "name": "python3"
  },
  "language_info": {
   "codemirror_mode": {
    "name": "ipython",
    "version": 3
   },
   "file_extension": ".py",
   "mimetype": "text/x-python",
   "name": "python",
   "nbconvert_exporter": "python",
   "pygments_lexer": "ipython3",
   "version": "3.6.3"
  }
 },
 "nbformat": 4,
 "nbformat_minor": 2
}
