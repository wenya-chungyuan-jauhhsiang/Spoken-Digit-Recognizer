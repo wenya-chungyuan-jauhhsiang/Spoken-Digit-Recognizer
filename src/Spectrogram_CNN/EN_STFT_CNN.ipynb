{
 "cells": [
  {
   "cell_type": "code",
   "execution_count": 1,
   "metadata": {
    "collapsed": true
   },
   "outputs": [],
   "source": [
    "rows = 1025\n",
    "cols = 50"
   ]
  },
  {
   "cell_type": "code",
   "execution_count": 2,
   "metadata": {
    "collapsed": true
   },
   "outputs": [],
   "source": [
    "import librosa\n",
    "import numpy as np\n",
    "import cv2\n",
    "import glob"
   ]
  },
  {
   "cell_type": "code",
   "execution_count": 3,
   "metadata": {},
   "outputs": [],
   "source": [
    "def store_stft_npy(fname):\n",
    "    y, sr = librosa.load('Audio_Data/new_data/'+fname)\n",
    "    STFT = librosa.amplitude_to_db(np.abs(librosa.stft(y)), ref=np.max)\n",
    "    STFT = cv2.resize(STFT.astype('float'), (cols, rows), interpolation = cv2.INTER_CUBIC)\n",
    "    np.save('en_stft_npy/'+fname, STFT)\n",
    "    \n",
    "filename = glob.glob(r'Audio_Data/new_data/*.wav')\n",
    "for i in range(len(filename)):\n",
    "    # mac\n",
    "    # filename[i] = filename[i].split('/')[1]\n",
    "    # window\n",
    "    filename[i] = filename[i].split('\\\\')[1]\n",
    "    store_stft_npy(filename[i])"
   ]
  },
  {
   "cell_type": "code",
   "execution_count": 4,
   "metadata": {
    "collapsed": true
   },
   "outputs": [],
   "source": [
    "def store_stft_npy(fname):\n",
    "    y, sr = librosa.load('Audio_Data/spoken_numbers_pcm/'+fname)\n",
    "    STFT = librosa.amplitude_to_db(np.abs(librosa.stft(y)), ref=np.max)\n",
    "    STFT = cv2.resize(STFT.astype('float'), (cols, rows), interpolation = cv2.INTER_CUBIC)\n",
    "    np.save('en_stft_npy/'+fname, STFT)\n",
    "filename = glob.glob(r'Audio_Data/spoken_numbers_pcm/*.wav')\n",
    "for i in range(len(filename)):\n",
    "    filename[i] = filename[i].split('\\\\')[1]\n",
    "    store_stft_npy(filename[i])"
   ]
  },
  {
   "cell_type": "code",
   "execution_count": 5,
   "metadata": {
    "collapsed": true
   },
   "outputs": [],
   "source": [
    "# 更新rows和cols\n",
    "rows = 300\n",
    "cols = 50"
   ]
  },
  {
   "cell_type": "code",
   "execution_count": 6,
   "metadata": {},
   "outputs": [
    {
     "name": "stderr",
     "output_type": "stream",
     "text": [
      "Using TensorFlow backend.\n"
     ]
    }
   ],
   "source": [
    "#%% 讀取npy，總共2400筆，2100做train、300做test\n",
    "import random\n",
    "from keras.utils import np_utils\n",
    "x_list = []\n",
    "y_list = []\n",
    "filename_npy = glob.glob(r'en_stft_npy/*.npy')\n",
    "random.shuffle(filename_npy)\n",
    "for i in range(len(filename_npy)):\n",
    "    ## 砍掉上半\n",
    "    x_tmp = np.load(filename_npy[i])[:rows,:]\n",
    "    x_list.append(x_tmp)\n",
    "    # mac\n",
    "    # y_list.append(filename_npy[i].split('/')[1][0])\n",
    "    # window\n",
    "    y_list.append(filename_npy[i].split('\\\\')[1][0])"
   ]
  },
  {
   "cell_type": "code",
   "execution_count": 7,
   "metadata": {},
   "outputs": [
    {
     "data": {
      "text/plain": [
       "2880"
      ]
     },
     "execution_count": 7,
     "metadata": {},
     "output_type": "execute_result"
    }
   ],
   "source": [
    "len(x_list)"
   ]
  },
  {
   "cell_type": "code",
   "execution_count": 9,
   "metadata": {},
   "outputs": [
    {
     "name": "stdout",
     "output_type": "stream",
     "text": [
      "5.70941244386 -88.3902387788\n",
      "2.55652086983 -86.7047296969\n"
     ]
    }
   ],
   "source": [
    "# 2500做train、380做test\n",
    "div = 2500\n",
    "x_train = np.asarray(x_list[:div])\n",
    "y_train = np.asarray(y_list[:div])\n",
    "x_test = np.asarray(x_list[div:])\n",
    "y_test = np.asarray(y_list[div:])\n",
    "\n",
    "x_train = x_train.reshape(-1,rows,cols,1)\n",
    "x_test = x_test.reshape(-1,rows,cols,1)\n",
    "\n",
    "print(x_train.max(), x_train.min())\n",
    "print(x_test.max(), x_test.min())\n",
    "\n",
    "# normalized和1-hot\n",
    "x_train = (x_train - x_train.min()) / (x_train.max() - x_train.min())\n",
    "x_test = (x_test - x_test.min()) / (x_test.max() - x_test.min())\n",
    "y_train = np_utils.to_categorical(y_train, 10)\n",
    "y_test = np_utils.to_categorical(y_test, 10)"
   ]
  },
  {
   "cell_type": "code",
   "execution_count": 13,
   "metadata": {
    "collapsed": true
   },
   "outputs": [],
   "source": [
    "import tensorflow as tf\n",
    "config = tf.ConfigProto()\n",
    "config.gpu_options.allow_growth = True\n",
    "# import package\n",
    "import matplotlib.pyplot as plt\n",
    "import numpy as np\n",
    "from keras.models import Sequential\n",
    "from keras.layers import Dense, Activation, Flatten, Conv2D, MaxPool2D, MaxPooling2D, BatchNormalization, Dropout\n",
    "from keras.optimizers import SGD\n",
    "from keras.datasets import mnist\n",
    "from keras import optimizers\n",
    "from keras.layers.advanced_activations import LeakyReLU"
   ]
  },
  {
   "cell_type": "code",
   "execution_count": 11,
   "metadata": {},
   "outputs": [
    {
     "data": {
      "text/plain": [
       "True"
      ]
     },
     "execution_count": 11,
     "metadata": {},
     "output_type": "execute_result"
    }
   ],
   "source": [
    "tf.test.is_gpu_available()"
   ]
  },
  {
   "cell_type": "code",
   "execution_count": 14,
   "metadata": {},
   "outputs": [],
   "source": [
    "#%% model\n",
    "model = Sequential()\n",
    "\n",
    "input_shape = (rows, cols, 1)\n",
    "\n",
    "model.add(Conv2D(16, (7, 7), padding='same', input_shape=input_shape))\n",
    "model.add(LeakyReLU(0.1))\n",
    "model.add(MaxPooling2D((3, 3), strides=(2, 2), padding='same'))\n",
    "model.add(BatchNormalization())\n",
    "\n",
    "model.add(Conv2D(32, (5, 5), padding='same'))\n",
    "model.add(LeakyReLU(0.1))\n",
    "model.add(MaxPooling2D((3, 3), strides=(2, 2), padding='same'))\n",
    "model.add(BatchNormalization())\n",
    "\n",
    "model.add(Conv2D(64, (3, 3), padding='same'))\n",
    "model.add(LeakyReLU(0.1))\n",
    "model.add(MaxPooling2D((3, 3), strides=(2, 2), padding='same'))\n",
    "model.add(BatchNormalization())\n",
    "\n",
    "model.add(Conv2D(128, (3, 3), padding='same'))\n",
    "model.add(LeakyReLU(0.1))\n",
    "model.add(MaxPooling2D((3, 3), strides=(2, 2), padding='same'))\n",
    "model.add(BatchNormalization())\n",
    "\n",
    "model.add(Conv2D(128, (3, 3), padding='same'))\n",
    "model.add(LeakyReLU(0.1))\n",
    "model.add(MaxPooling2D((3, 3), strides=(2, 2), padding='same'))\n",
    "model.add(BatchNormalization())\n",
    "\n",
    "model.add(Conv2D(256, (3, 3), padding='same'))\n",
    "model.add(LeakyReLU(0.1))\n",
    "model.add(MaxPooling2D((3, 3), strides=(2, 2), padding='same'))\n",
    "model.add(BatchNormalization())\n",
    "\n",
    "model.add(Conv2D(512, (3, 3), padding='same'))\n",
    "model.add(LeakyReLU(0.1))\n",
    "model.add(MaxPooling2D((3, 3), strides=(2, 2), padding='same'))\n",
    "model.add(BatchNormalization())\n",
    "\n",
    "model.add(Flatten())\n",
    "model.add(Dense(512))\n",
    "model.add(LeakyReLU(0.1))\n",
    "model.add(BatchNormalization())\n",
    "model.add(Dropout(0.5))\n",
    "\n",
    "model.add(Dense(256))\n",
    "model.add(LeakyReLU(0.1))\n",
    "model.add(BatchNormalization())\n",
    "model.add(Dropout(0.4))\n",
    "\n",
    "model.add(Dense(128))\n",
    "model.add(LeakyReLU(0.1))\n",
    "model.add(BatchNormalization())\n",
    "model.add(Dropout(0.3))\n",
    "\n",
    "model.add(Dense(10))\n",
    "model.add(Activation('softmax'))\n",
    "\n",
    "model.compile(optimizer=optimizers.Adam(lr=0.0005),\n",
    "              loss='kullback_leibler_divergence',\n",
    "              metrics=['accuracy'])"
   ]
  },
  {
   "cell_type": "code",
   "execution_count": 15,
   "metadata": {},
   "outputs": [
    {
     "name": "stdout",
     "output_type": "stream",
     "text": [
      "_________________________________________________________________\n",
      "Layer (type)                 Output Shape              Param #   \n",
      "=================================================================\n",
      "conv2d_2 (Conv2D)            (None, 300, 50, 16)       800       \n",
      "_________________________________________________________________\n",
      "leaky_re_lu_1 (LeakyReLU)    (None, 300, 50, 16)       0         \n",
      "_________________________________________________________________\n",
      "max_pooling2d_1 (MaxPooling2 (None, 150, 25, 16)       0         \n",
      "_________________________________________________________________\n",
      "batch_normalization_1 (Batch (None, 150, 25, 16)       64        \n",
      "_________________________________________________________________\n",
      "conv2d_3 (Conv2D)            (None, 150, 25, 32)       12832     \n",
      "_________________________________________________________________\n",
      "leaky_re_lu_2 (LeakyReLU)    (None, 150, 25, 32)       0         \n",
      "_________________________________________________________________\n",
      "max_pooling2d_2 (MaxPooling2 (None, 75, 13, 32)        0         \n",
      "_________________________________________________________________\n",
      "batch_normalization_2 (Batch (None, 75, 13, 32)        128       \n",
      "_________________________________________________________________\n",
      "conv2d_4 (Conv2D)            (None, 75, 13, 64)        18496     \n",
      "_________________________________________________________________\n",
      "leaky_re_lu_3 (LeakyReLU)    (None, 75, 13, 64)        0         \n",
      "_________________________________________________________________\n",
      "max_pooling2d_3 (MaxPooling2 (None, 38, 7, 64)         0         \n",
      "_________________________________________________________________\n",
      "batch_normalization_3 (Batch (None, 38, 7, 64)         256       \n",
      "_________________________________________________________________\n",
      "conv2d_5 (Conv2D)            (None, 38, 7, 128)        73856     \n",
      "_________________________________________________________________\n",
      "leaky_re_lu_4 (LeakyReLU)    (None, 38, 7, 128)        0         \n",
      "_________________________________________________________________\n",
      "max_pooling2d_4 (MaxPooling2 (None, 19, 4, 128)        0         \n",
      "_________________________________________________________________\n",
      "batch_normalization_4 (Batch (None, 19, 4, 128)        512       \n",
      "_________________________________________________________________\n",
      "conv2d_6 (Conv2D)            (None, 19, 4, 128)        147584    \n",
      "_________________________________________________________________\n",
      "leaky_re_lu_5 (LeakyReLU)    (None, 19, 4, 128)        0         \n",
      "_________________________________________________________________\n",
      "max_pooling2d_5 (MaxPooling2 (None, 10, 2, 128)        0         \n",
      "_________________________________________________________________\n",
      "batch_normalization_5 (Batch (None, 10, 2, 128)        512       \n",
      "_________________________________________________________________\n",
      "conv2d_7 (Conv2D)            (None, 10, 2, 256)        295168    \n",
      "_________________________________________________________________\n",
      "leaky_re_lu_6 (LeakyReLU)    (None, 10, 2, 256)        0         \n",
      "_________________________________________________________________\n",
      "max_pooling2d_6 (MaxPooling2 (None, 5, 1, 256)         0         \n",
      "_________________________________________________________________\n",
      "batch_normalization_6 (Batch (None, 5, 1, 256)         1024      \n",
      "_________________________________________________________________\n",
      "conv2d_8 (Conv2D)            (None, 5, 1, 512)         1180160   \n",
      "_________________________________________________________________\n",
      "leaky_re_lu_7 (LeakyReLU)    (None, 5, 1, 512)         0         \n",
      "_________________________________________________________________\n",
      "max_pooling2d_7 (MaxPooling2 (None, 3, 1, 512)         0         \n",
      "_________________________________________________________________\n",
      "batch_normalization_7 (Batch (None, 3, 1, 512)         2048      \n",
      "_________________________________________________________________\n",
      "flatten_1 (Flatten)          (None, 1536)              0         \n",
      "_________________________________________________________________\n",
      "dense_1 (Dense)              (None, 512)               786944    \n",
      "_________________________________________________________________\n",
      "leaky_re_lu_8 (LeakyReLU)    (None, 512)               0         \n",
      "_________________________________________________________________\n",
      "batch_normalization_8 (Batch (None, 512)               2048      \n",
      "_________________________________________________________________\n",
      "dropout_1 (Dropout)          (None, 512)               0         \n",
      "_________________________________________________________________\n",
      "dense_2 (Dense)              (None, 256)               131328    \n",
      "_________________________________________________________________\n",
      "leaky_re_lu_9 (LeakyReLU)    (None, 256)               0         \n",
      "_________________________________________________________________\n",
      "batch_normalization_9 (Batch (None, 256)               1024      \n",
      "_________________________________________________________________\n",
      "dropout_2 (Dropout)          (None, 256)               0         \n",
      "_________________________________________________________________\n",
      "dense_3 (Dense)              (None, 128)               32896     \n",
      "_________________________________________________________________\n",
      "leaky_re_lu_10 (LeakyReLU)   (None, 128)               0         \n",
      "_________________________________________________________________\n",
      "batch_normalization_10 (Batc (None, 128)               512       \n",
      "_________________________________________________________________\n",
      "dropout_3 (Dropout)          (None, 128)               0         \n",
      "_________________________________________________________________\n",
      "dense_4 (Dense)              (None, 10)                1290      \n",
      "_________________________________________________________________\n",
      "activation_1 (Activation)    (None, 10)                0         \n",
      "=================================================================\n",
      "Total params: 2,689,482\n",
      "Trainable params: 2,685,418\n",
      "Non-trainable params: 4,064\n",
      "_________________________________________________________________\n"
     ]
    }
   ],
   "source": [
    "model.summary()"
   ]
  },
  {
   "cell_type": "code",
   "execution_count": 16,
   "metadata": {},
   "outputs": [],
   "source": [
    "from keras.callbacks import EarlyStopping\n",
    "early_stopping = EarlyStopping('val_acc', patience=5, verbose=1)"
   ]
  },
  {
   "cell_type": "code",
   "execution_count": 17,
   "metadata": {},
   "outputs": [
    {
     "name": "stdout",
     "output_type": "stream",
     "text": [
      "Train on 2500 samples, validate on 380 samples\n",
      "Epoch 1/100\n",
      "2500/2500 [==============================] - 7s 3ms/step - loss: 2.6111 - acc: 0.2228 - val_loss: 4.0252 - val_acc: 0.1342\n",
      "Epoch 2/100\n",
      "2500/2500 [==============================] - 3s 1ms/step - loss: 1.8483 - acc: 0.3900 - val_loss: 3.6245 - val_acc: 0.2237\n",
      "Epoch 3/100\n",
      "2500/2500 [==============================] - 3s 1ms/step - loss: 1.4064 - acc: 0.5196 - val_loss: 3.7717 - val_acc: 0.2105\n",
      "Epoch 4/100\n",
      "2500/2500 [==============================] - 3s 1ms/step - loss: 1.0526 - acc: 0.6264 - val_loss: 3.9476 - val_acc: 0.2395\n",
      "Epoch 5/100\n",
      "2500/2500 [==============================] - 3s 1ms/step - loss: 0.8055 - acc: 0.7260 - val_loss: 2.6664 - val_acc: 0.3316\n",
      "Epoch 6/100\n",
      "2500/2500 [==============================] - 3s 1ms/step - loss: 0.5862 - acc: 0.7948 - val_loss: 1.6141 - val_acc: 0.5158\n",
      "Epoch 7/100\n",
      "2500/2500 [==============================] - 3s 1ms/step - loss: 0.4028 - acc: 0.8696 - val_loss: 3.6678 - val_acc: 0.2421\n",
      "Epoch 8/100\n",
      "2500/2500 [==============================] - 3s 1ms/step - loss: 0.2756 - acc: 0.9172 - val_loss: 1.8243 - val_acc: 0.4711\n",
      "Epoch 9/100\n",
      "2500/2500 [==============================] - 3s 1ms/step - loss: 0.1907 - acc: 0.9540 - val_loss: 0.8525 - val_acc: 0.6711\n",
      "Epoch 10/100\n",
      "2500/2500 [==============================] - 3s 1ms/step - loss: 0.1449 - acc: 0.9600 - val_loss: 0.7390 - val_acc: 0.7579\n",
      "Epoch 11/100\n",
      "2500/2500 [==============================] - 3s 1ms/step - loss: 0.1088 - acc: 0.9720 - val_loss: 0.9099 - val_acc: 0.7342\n",
      "Epoch 12/100\n",
      "2500/2500 [==============================] - 3s 1ms/step - loss: 0.0727 - acc: 0.9864 - val_loss: 0.8611 - val_acc: 0.7605\n",
      "Epoch 13/100\n",
      "2500/2500 [==============================] - 3s 1ms/step - loss: 0.0602 - acc: 0.9888 - val_loss: 0.4307 - val_acc: 0.8632\n",
      "Epoch 14/100\n",
      "2500/2500 [==============================] - 3s 1ms/step - loss: 0.0475 - acc: 0.9908 - val_loss: 0.6504 - val_acc: 0.8105\n",
      "Epoch 15/100\n",
      "2500/2500 [==============================] - 3s 1ms/step - loss: 0.0387 - acc: 0.9944 - val_loss: 0.4678 - val_acc: 0.8500\n",
      "Epoch 16/100\n",
      "2500/2500 [==============================] - 3s 1ms/step - loss: 0.0299 - acc: 0.9960 - val_loss: 0.3175 - val_acc: 0.8921\n",
      "Epoch 17/100\n",
      "2500/2500 [==============================] - 3s 1ms/step - loss: 0.0263 - acc: 0.9980 - val_loss: 0.7663 - val_acc: 0.7895\n",
      "Epoch 18/100\n",
      "2500/2500 [==============================] - 3s 1ms/step - loss: 0.0335 - acc: 0.9936 - val_loss: 0.2403 - val_acc: 0.9000\n",
      "Epoch 19/100\n",
      "2500/2500 [==============================] - 3s 1ms/step - loss: 0.0258 - acc: 0.9964 - val_loss: 0.1268 - val_acc: 0.9711\n",
      "Epoch 20/100\n",
      "2500/2500 [==============================] - 3s 1ms/step - loss: 0.0234 - acc: 0.9956 - val_loss: 0.1236 - val_acc: 0.9553\n",
      "Epoch 21/100\n",
      "2500/2500 [==============================] - 3s 1ms/step - loss: 0.0156 - acc: 0.9992 - val_loss: 0.0799 - val_acc: 0.9737\n",
      "Epoch 22/100\n",
      "2500/2500 [==============================] - 3s 1ms/step - loss: 0.0173 - acc: 0.9976 - val_loss: 0.1211 - val_acc: 0.9658\n",
      "Epoch 23/100\n",
      "2500/2500 [==============================] - 3s 1ms/step - loss: 0.0185 - acc: 0.9980 - val_loss: 0.2018 - val_acc: 0.9395\n",
      "Epoch 24/100\n",
      "2500/2500 [==============================] - 3s 1ms/step - loss: 0.0243 - acc: 0.9956 - val_loss: 0.3078 - val_acc: 0.9079\n",
      "Epoch 25/100\n",
      "2500/2500 [==============================] - 3s 1ms/step - loss: 0.0207 - acc: 0.9960 - val_loss: 0.3461 - val_acc: 0.9000\n",
      "Epoch 26/100\n",
      "2500/2500 [==============================] - 3s 1ms/step - loss: 0.0173 - acc: 0.9980 - val_loss: 0.0806 - val_acc: 0.9763\n",
      "Epoch 27/100\n",
      "2500/2500 [==============================] - 3s 1ms/step - loss: 0.0125 - acc: 0.9996 - val_loss: 0.5600 - val_acc: 0.8395\n",
      "Epoch 28/100\n",
      "2500/2500 [==============================] - 3s 1ms/step - loss: 0.0090 - acc: 1.0000 - val_loss: 0.1282 - val_acc: 0.9579\n",
      "Epoch 29/100\n",
      "2500/2500 [==============================] - 3s 1ms/step - loss: 0.0094 - acc: 0.9992 - val_loss: 0.0925 - val_acc: 0.9711\n",
      "Epoch 30/100\n",
      "2500/2500 [==============================] - 3s 1ms/step - loss: 0.0067 - acc: 0.9996 - val_loss: 0.1252 - val_acc: 0.9605\n",
      "Epoch 31/100\n",
      "2500/2500 [==============================] - 3s 1ms/step - loss: 0.0065 - acc: 0.9996 - val_loss: 0.0967 - val_acc: 0.9605\n",
      "Epoch 00031: early stopping\n"
     ]
    }
   ],
   "source": [
    "#%% fit model\n",
    "model_history = model.fit(x_train, y_train, batch_size=128, epochs=100,\n",
    "                          validation_data = (x_test, y_test),\n",
    "                          shuffle = True,\n",
    "                          callbacks=[early_stopping]\n",
    "                         )"
   ]
  },
  {
   "cell_type": "code",
   "execution_count": 18,
   "metadata": {},
   "outputs": [
    {
     "data": {
      "image/png": "[encoded data removed]",
      "text/plain": [
       "<matplotlib.figure.Figure at 0x949b64e0>"
      ]
     },
     "metadata": {},
     "output_type": "display_data"
    },
    {
     "name": "stdout",
     "output_type": "stream",
     "text": [
      "380/380 [==============================] - 1s 2ms/step\n",
      "Loss: 0.096703\n",
      "testing accuracy: 96.052629\n"
     ]
    }
   ],
   "source": [
    "#%% 作圖\n",
    "fig = plt.figure(figsize=(16,5))\n",
    "ax1 = fig.add_subplot(1,2,1)\n",
    "plt.plot(model_history.history[\"acc\"])\n",
    "\n",
    "plt.title(\"model training accuracy\")\n",
    "plt.ylabel(\"accuracy\")\n",
    "plt.xlabel(\"epoch\")\n",
    "plt.legend([\"model_final\"], loc = \"best\")\n",
    "\n",
    "ax2 = fig.add_subplot(1,2,2)\n",
    "plt.plot(model_history.history[\"val_acc\"])\n",
    "\n",
    "plt.title(\"model validation accuracy\")\n",
    "plt.ylabel(\"accuracy\")\n",
    "plt.xlabel(\"epoch\")\n",
    "plt.legend([\"model_final\"], loc = \"best\")\n",
    "\n",
    "plt.show()\n",
    "\n",
    "#%% score\n",
    "score = model.evaluate(x_test, y_test, batch_size=10000)\n",
    "print(\"Loss: %f\" %score[0])\n",
    "print(\"testing accuracy: %f\" %(score[1]*100))"
   ]
  },
  {
   "cell_type": "code",
   "execution_count": 19,
   "metadata": {
    "collapsed": true
   },
   "outputs": [],
   "source": [
    "#%% 儲存model\n",
    "model.save('EN_STFT_CNN.h5')"
   ]
  }
 ],
 "metadata": {
  "kernelspec": {
   "display_name": "Python 3",
   "language": "python",
   "name": "python3"
  },
  "language_info": {
   "codemirror_mode": {
    "name": "ipython",
    "version": 3
   },
   "file_extension": ".py",
   "mimetype": "text/x-python",
   "name": "python",
   "nbconvert_exporter": "python",
   "pygments_lexer": "ipython3",
   "version": "3.6.3"
  }
 },
 "nbformat": 4,
 "nbformat_minor": 2
}
