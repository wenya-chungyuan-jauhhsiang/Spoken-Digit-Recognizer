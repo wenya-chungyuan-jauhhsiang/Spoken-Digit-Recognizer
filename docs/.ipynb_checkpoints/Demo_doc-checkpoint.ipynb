{
 "cells": [
  {
   "cell_type": "markdown",
   "metadata": {},
   "source": [
    "<center>\n",
    "<table align=\"center\">\n",
    "    <tr>\n",
    "        <td bgcolor=Lavender style=\"text-align:center\">\n",
    "            <font size=\"10\" color=RoyalBlue >\n",
    "            <b>Demo\n",
    "            </font>\n",
    "        </td>\n",
    "    </tr>\n",
    "</table>\n",
    "</center>\n"
   ]
  },
  {
   "cell_type": "markdown",
   "metadata": {},
   "source": [
    "# Target(1): 結合所有Project成果為GUI展示\n",
    "# Target(2): 使用者可透過麥克風説話，程式將判斷使用者說了哪些中/英數字\n"
   ]
  },
  {
   "cell_type": "markdown",
   "metadata": {},
   "source": [
    "## [Demo影片](https://www.youtube.com/watch?v=_yKum1DxPJM)"
   ]
  },
  {
   "cell_type": "markdown",
   "metadata": {},
   "source": [
    "##  對應source code連結\n",
    "- ### [Demo資料夾](https://github.com/wenya-chungyuan-jauhhsiang/Spoken-Digit-Recognizer/tree/master/src/Demo)\n",
    "    - main.py (主程式，已結合split_audio.py)\n",
    "    - audiostream.py (處理麥克風音訊)\n",
    "    - visualizer.ui (介面設計檔)\n",
    "    - models (CQT+CNN, STFT+CNN, MFCC+RNN，各有中/英版本，共6個model)"
   ]
  },
  {
   "cell_type": "markdown",
   "metadata": {},
   "source": [
    "## GUI介面\n",
    "<img src=\"resources/demo.png\" alt=\"demo\" width=\"800\" height=\"480\">\n"
   ]
  },
  {
   "cell_type": "markdown",
   "metadata": {},
   "source": [
    "## 處理流程\n",
    "- 使用者選取Model，共六種Model供選擇，分別是\n",
    "    - EN_CQT_CNN.h5\n",
    "    - CH_CQT_CNN.h5\n",
    "    - EN_STFT_CNN.h5\n",
    "    - CH_STFT_CNN.h5\n",
    "    - EN_MFCC_RNN.h5\n",
    "    - CH_MFCC_RNN.h5\n",
    "- 點選\"Record\"按鈕錄音，再按一次停止錄音\n",
    "- 程式將使用split_audio.py之程式分割音檔\n",
    "- 使用選擇的Model偵測每個分割的音檔數字為何"
   ]
  },
  {
   "cell_type": "markdown",
   "metadata": {},
   "source": [
    "## Reference\n",
    "- https://github.com/markjay4k/Audio-Spectrum-Analyzer-in-Python"
   ]
  }
 ],
 "metadata": {
  "kernelspec": {
   "display_name": "Python 3",
   "language": "python",
   "name": "python3"
  },
  "language_info": {
   "codemirror_mode": {
    "name": "ipython",
    "version": 3
   },
   "file_extension": ".py",
   "mimetype": "text/x-python",
   "name": "python",
   "nbconvert_exporter": "python",
   "pygments_lexer": "ipython3",
   "version": "3.6.7"
  }
 },
 "nbformat": 4,
 "nbformat_minor": 2
}
